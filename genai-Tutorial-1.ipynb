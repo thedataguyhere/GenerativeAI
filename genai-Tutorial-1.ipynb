{
 "cells": [
  {
   "cell_type": "markdown",
   "id": "49b563db",
   "metadata": {},
   "source": [
    "### Direct openai"
   ]
  },
  {
   "cell_type": "code",
   "execution_count": 28,
   "id": "2f9983cb-e8b7-448a-b60a-c113156d7908",
   "metadata": {},
   "outputs": [],
   "source": [
    "import openai\n",
    "import os\n",
    "from dotenv import load_dotenv\n",
    "\n",
    "#save your openai key in .env file like this format --> OPENAI_API_KEY=\"sk-.....\" \n",
    "os.environ[\"OPENAI_API_KEY\"] = os.getenv(\"OPENAI_API_KEY\")\n",
    "openai.api_key = os.getenv(\"OPENAI_API_KEY\")"
   ]
  },
  {
   "cell_type": "code",
   "execution_count": 32,
   "id": "699fdc3b-d077-4c48-b61d-cdfdfe0cdd49",
   "metadata": {},
   "outputs": [
    {
     "name": "stdout",
     "output_type": "stream",
     "text": [
      "Data Science is a complex field that uses various statistical, machine learning and visualization techniques to extract valuable knowledge and insights from data. Here are some key points:\n",
      "\n",
      "1. Interdisciplinary field: Data Science is an interdisciplinary field that combines math, statistics, computer science, operations research, and domain expertise. \n",
      "\n",
      "2. Importance of Data: With the advancement of digital technologies, there has been an explosion of data generated. This allows organizations to use data as a strategic asset, driving decision-making, innovation and efficiencies.\n",
      "\n",
      "3. Predictive Analysis: Data Science goes beyond simple analysis of past events. It attempts to predict future events, making use of predictive modeling, machine learning, and other techniques.\n",
      "\n",
      "4. Machine Learning: A key component of Data Science is machine learning, which provides systems the ability to automatically learn and improve from experience without being explicitly programmed.\n",
      "\n",
      "5. Decision Making: Data Science is highly important in decision-making processes. It can give detailed insights into customer behavior, market trends, operational efficiencies and many other areas.\n",
      "\n",
      "6. Data Driven Decisions: The end goal of data science is to help organizations make objective, data-driven decisions. It takes guesswork out of the decision-making process, and adds a degree of scientific rigor.\n",
      "\n",
      "7. Tools and Approaches: There are several data science tools and approaches like Python, R, SAS, Tensorflow, Tableau, etc. which help in conducting data analysis and visualization.\n",
      "\n",
      "8. Data Processing: Data Science involves pre-processing the raw data to a useful one. This may include cleaning the data, handling missing data, normalizing the data, etc.\n",
      "\n",
      "9. Pattern Detection: Data science is often used to detect patterns within a large amount of data. These patterns can then be utilized to predict trends and make decisions.\n",
      "\n",
      "10. Ethical Considerations: With great power comes great responsibility. Data Science needs to be guided by strong ethical principles, especially around privacy and fairness. This is increasingly important in the era of Big Data and Artificial Intelligence.\n"
     ]
    }
   ],
   "source": [
    "# Define a prompt for the OpenAI Chat API\n",
    "prompt = \"\"\"\n",
    "Please tell me some key importants about data science\n",
    "\"\"\"\n",
    "\n",
    "# Use OpenAI's ChatCompletion API to generate a response\n",
    "response = openai.ChatCompletion.create(\n",
    "    model=\"gpt-4\",\n",
    "    messages=[\n",
    "        {\"role\": \"system\", \"content\": \"You are an expert in Data Science and Machine Learning\"},\n",
    "        {\"role\": \"user\", \"content\": prompt},\n",
    "    ],\n",
    ")\n",
    "generated_text = response['choices'][0]['message']['content']\n",
    "\n",
    "print(generated_text)"
   ]
  },
  {
   "cell_type": "markdown",
   "id": "1da4ffe8",
   "metadata": {},
   "source": [
    "### Using Langchain"
   ]
  },
  {
   "cell_type": "code",
   "execution_count": 31,
   "id": "6bdd39d7",
   "metadata": {},
   "outputs": [
    {
     "name": "stdout",
     "output_type": "stream",
     "text": [
      "There are several key aspects that make data science important:\n",
      "\n",
      "1. Decision-making: Data science helps in making informed decisions by analyzing and interpreting large amounts of data. It allows organizations to identify patterns, trends, and correlations, which can guide strategic planning and resource allocation.\n",
      "\n",
      "2. Predictive analysis: Data science enables the development of models and algorithms to predict future outcomes based on historical data. This helps businesses anticipate customer behavior, market trends, and potential risks, allowing them to take proactive measures.\n",
      "\n",
      "3. Efficiency and optimization: By analyzing data, data science helps organizations identify areas where they can improve efficiency, reduce costs, and optimize operations. It enables process automation and streamlining, leading to better resource utilization and increased productivity.\n",
      "\n",
      "4. Personalization and customer understanding: Data science allows businesses to gain a deeper understanding of their customers by analyzing their preferences, behavior, and needs. This enables personalized marketing campaigns, product recommendations, and tailored customer experiences, enhancing customer satisfaction and loyalty.\n",
      "\n",
      "5. Fraud detection and risk management: Data science plays a crucial role in identifying fraudulent activities and managing risks. By analyzing patterns and anomalies in data, it helps organizations detect and prevent fraudulent transactions, safeguarding their assets and reputation.\n",
      "\n",
      "6. Innovation and research: Data science fuels innovation by uncovering insights and uncovering new opportunities. It aids in research and development, enabling the discovery of new products, services, and solutions that can address existing challenges and meet evolving market demands.\n",
      "\n",
      "7. Data-driven decision culture: Data science promotes a data-driven decision culture within organizations. It encourages stakeholders to rely on evidence-based insights rather than intuition or assumptions, leading to more objective and effective decision-making.\n",
      "\n",
      "8. Automation and artificial intelligence: Data science is essential in developing automation and artificial intelligence systems. By leveraging data, machine learning algorithms can be trained to perform tasks, such as image recognition, natural language processing, and autonomous driving, revolutionizing various industries.\n",
      "\n",
      "In summary, data science has become increasingly important in today's data-driven world, enabling organizations to gain a competitive edge, improve decision-making, and unlock new opportunities for growth and innovation.\n"
     ]
    }
   ],
   "source": [
    "# Import necessary libraries for Langchain\n",
    "from langchain.llms import OpenAI\n",
    "from langchain.chat_models import ChatOpenAI\n",
    "\n",
    "# Create instances of Langchain objects\n",
    "llm = OpenAI()\n",
    "chat_model = ChatOpenAI()\n",
    "\n",
    "# Use Langchain to predict a response\n",
    "output=chat_model.predict(\"Please tell me some key importants about data science\")\n",
    "\n",
    "print(output)"
   ]
  },
  {
   "cell_type": "markdown",
   "id": "390320fe",
   "metadata": {},
   "source": [
    "### Using system and user Prompts with Langchain"
   ]
  },
  {
   "cell_type": "code",
   "execution_count": 33,
   "id": "cc869416",
   "metadata": {},
   "outputs": [
    {
     "name": "stdout",
     "output_type": "stream",
     "text": [
      "1. Data Science is Interdisciplinary: Data science is not just about statistics or programming. It is an interdisciplinary field that involves computer science, mathematics, and business or domain knowledge.\n",
      "\n",
      "2. Data-driven decision making: The main aim of data science is to create models and methodologies that can sift through vast amounts of data and extract valuable insights from it. These insights can then be used to make informed decisions.\n",
      "\n",
      "3. Variety of Data: Data science deals with all types of data, be it structured or unstructured. This includes text data, image data, audio data, numerical data, etc.\n",
      "\n",
      "4. Real-time Analysis: With the advancement in technology, data science can now also deal with real-time data and provide real-time analytics.\n",
      "\n",
      "5. Predictive Analysis: One of the most important aspects of data science is predictive analysis. Data scientists create models that can predict future outcomes based on historical data.\n",
      "\n",
      "6. Machine Learning: Machine learning is a key component of data science. It involves the creation of algorithms that can learn from data and make predictions or decisions without being explicitly programmed.\n",
      "\n",
      "7. Data Visualization: Data visualization is another important aspect of data science. It involves presenting data in a visual context to help people understand the significance of data.\n",
      "\n",
      "8. High Demand: There is a high demand for data scientists in almost every industry today. This is because every industry is generating massive amounts of data and they need data scientists to help them make sense of this data.\n",
      "\n",
      "9. Data Privacy: With great power comes great responsibility. Data science often involves dealing with sensitive information, so data privacy and security are of utmost importance.\n",
      "\n",
      "10. Constantly Evolving: The field of data science is constantly evolving. New technologies, techniques, and theories are being developed all the time. Therefore, continuous learning and upgrading skills is a must for any data scientist.\n"
     ]
    }
   ],
   "source": [
    "# Import necessary modules for using prompts with Langchain\n",
    "from langchain.prompts.chat import (\n",
    "    SystemMessagePromptTemplate,\n",
    "    AIMessagePromptTemplate,\n",
    "    HumanMessagePromptTemplate,\n",
    "    ChatPromptTemplate\n",
    ")\n",
    "from langchain.chains import LLMChain\n",
    "\n",
    "# Create an instance of ChatOpenAI with specific settings\n",
    "llm = ChatOpenAI(temperature=0.7, model_name=\"gpt-4\", n=3)\n",
    "\n",
    "# Define message templates for system and user messages\n",
    "system_template = SystemMessagePromptTemplate.from_template(\"You are an expert in Data Science and Machine Learning\")\n",
    "user_template = HumanMessagePromptTemplate.from_template(\"{user_prompt}\")\n",
    "\n",
    "# Create a ChatPromptTemplate from the message templates\n",
    "template = ChatPromptTemplate.from_messages([system_template, user_template])\n",
    "\n",
    "# Create an LLMChain instance with the Langchain model and the prompt template\n",
    "chain = LLMChain(llm=llm, prompt=template)\n",
    "\n",
    "# Define a user prompt\n",
    "user_prompt = \"Please tell me some key importants about data science\"\n",
    "\n",
    "# Run the Langchain chain with the user prompt\n",
    "result=chain.run({\"user_prompt\": user_prompt})\n",
    "\n",
    "print(result)"
   ]
  },
  {
   "cell_type": "code",
   "execution_count": null,
   "id": "847a020c",
   "metadata": {},
   "outputs": [],
   "source": []
  }
 ],
 "metadata": {
  "kernelspec": {
   "display_name": "Python 3 (ipykernel)",
   "language": "python",
   "name": "python3"
  },
  "language_info": {
   "codemirror_mode": {
    "name": "ipython",
    "version": 3
   },
   "file_extension": ".py",
   "mimetype": "text/x-python",
   "name": "python",
   "nbconvert_exporter": "python",
   "pygments_lexer": "ipython3",
   "version": "3.10.12"
  }
 },
 "nbformat": 4,
 "nbformat_minor": 5
}
